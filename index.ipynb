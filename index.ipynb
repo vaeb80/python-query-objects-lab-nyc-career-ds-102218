{
 "cells": [
  {
   "cell_type": "markdown",
   "metadata": {},
   "source": [
    "# Python Query Objects Lab"
   ]
  },
  {
   "cell_type": "markdown",
   "metadata": {},
   "source": [
    "## Introduction\n",
    "\n",
    "We have gotten pretty good at storing our instance objects and retrieving them using class variables and class methods. We've also basically mastered how to return our instance and class data in all kinds of fun ways and formats. So, now we are going to practice separating these two jobs. If we think about it, we will probably want to re-use a lot of these query methods like `sort_by` or `find_by` on more than just one class. So, instead of creating the same methods in multiple classes, we can define another class, `Query`, which will hold all these query methods and help clean up our other classes. Let's get started!"
   ]
  },
  {
   "cell_type": "markdown",
   "metadata": {},
   "source": [
    "## Objectives\n",
    "* Define a Query class and a Person class\n",
    "* Define Query class methods that return information about a given class\n",
    "* Import the Query class into other classes to utilize the query methods\n",
    "* Define class methods that call the Query class from another class"
   ]
  },
  {
   "cell_type": "markdown",
   "metadata": {},
   "source": [
    "## Define Our Classes"
   ]
  },
  {
   "cell_type": "markdown",
   "metadata": {},
   "source": [
    "Okay, step one is to define our two initial classes. We will be working with a Person class and a Query class. Define these in the provided person.py and query.py files. We only need an `__init__` method for the Person class, and a person should be initialized with a `_name` and an `_age`. We also need the person class to keep track of all the people, or person instance objects as we like to call them. Let's save them in our `_all` class variable that points to a list and define a class method, `all` that returns the `_all` list."
   ]
  },
  {
   "cell_type": "code",
   "execution_count": null,
   "metadata": {},
   "outputs": [],
   "source": [
    "from person import Person\n",
    "Person(\"Jeff\", 31)\n",
    "Person(\"Molly\", 24)\n",
    "Person(\"Kevin\", 38)\n",
    "Person(\"Rachel\", 27)\n",
    "Person(\"Devin\", 25)\n",
    "Person(\"Michelle\", 33)"
   ]
  },
  {
   "cell_type": "code",
   "execution_count": null,
   "metadata": {},
   "outputs": [],
   "source": [
    "from query import Query"
   ]
  },
  {
   "cell_type": "markdown",
   "metadata": {},
   "source": [
    "## Define Our Class Methods \n",
    "Next, we want to define query class methods that return information about the person class. Below are a few class methods we can define in the Query class to operate on the person instance objects.  Each class method should accept another class as a parameter.  That way, we can pass the Person class into Query's class methods to operate on the Person class."
   ]
  },
  {
   "cell_type": "code",
   "execution_count": null,
   "metadata": {},
   "outputs": [],
   "source": [
    "Query.count(Person) \n",
    "# returns a number for the total count of person instances"
   ]
  },
  {
   "cell_type": "code",
   "execution_count": null,
   "metadata": {},
   "outputs": [],
   "source": [
    "Query.find_by_name(Person, \"Jeff\") \n",
    "# returns first person instance object who's name is \"Jeff\""
   ]
  },
  {
   "cell_type": "code",
   "execution_count": null,
   "metadata": {},
   "outputs": [],
   "source": [
    "Query.name_starts_with(Person, \"M\") \n",
    "# returns a list of person instance objects whose name starts with the letter 'M'"
   ]
  },
  {
   "cell_type": "code",
   "execution_count": null,
   "metadata": {},
   "outputs": [],
   "source": [
    "Query.is_older_than(Person, 30) \n",
    "# returns a list of person instance objects whose age is greater than 30"
   ]
  },
  {
   "cell_type": "code",
   "execution_count": null,
   "metadata": {},
   "outputs": [],
   "source": [
    "Query.mean_age(Person) \n",
    "# returns the mean age of all person instance objects"
   ]
  },
  {
   "cell_type": "markdown",
   "metadata": {},
   "source": [
    "## Importing The Query Class as a Module"
   ]
  },
  {
   "cell_type": "markdown",
   "metadata": {},
   "source": [
    "Great! We defined a lot of exciting class methods and they are all working! But it seems a little weird that we are asking the Query class what the mean_age is, right? We understand what's happening but, maybe it would make more sense for us to ask the Person class what the mean age is?"
   ]
  },
  {
   "cell_type": "markdown",
   "metadata": {},
   "source": [
    "```python\n",
    "Person.mean_age()\n",
    "```"
   ]
  },
  {
   "cell_type": "markdown",
   "metadata": {},
   "source": [
    "Wow, yeah that seems to make a lot more sense. It is immediately more evident that we are asking the Person class what the mean age is for all person instance objects.\n",
    "\n",
    "We still want to have our separation of concerns and keep the querying to the Query class, but we now want to define class methods in the Person class that call the Query class instead of the Query class being called directly. \n",
    "\n",
    "To accomplish this, we will need to do one more thing to set up our classes correctly. We need to import the Query class into our Person class.\n",
    "\n",
    "```python \n",
    "from query import Query\n",
    "```\n",
    "\n",
    "To learn more about importing modules in Python, refer to the documentation [here.](https://docs.python.org/2/tutorial/modules.html)"
   ]
  },
  {
   "cell_type": "markdown",
   "metadata": {},
   "source": [
    "## Using Query in Our Person Class"
   ]
  },
  {
   "cell_type": "markdown",
   "metadata": {},
   "source": [
    "Great! Now define class methods on the Person class for `count`, `find_by_name`, `name_starts_with`, `is_older_than`, and `mean_age`. They should return the exact same values as the above class methods for the Query class, but they should simply call the corresponding Query class methods and return the result."
   ]
  },
  {
   "cell_type": "code",
   "execution_count": null,
   "metadata": {},
   "outputs": [],
   "source": [
    "Person.count() \n",
    "# returns a number for the total count of person instances\n",
    "\n",
    "Person.find_by_name(\"Jeff\") \n",
    "# returns first person instance object who's name is \"Jeff\"\n",
    "\n",
    "Person.name_starts_with(\"M\") \n",
    "# returns a list of person instance objects whose name starts with the letter 'M'\n",
    "\n",
    "Person.is_older_than(30) \n",
    "# returns a list of person instance objects whose age is greater than 30\n",
    "\n",
    "Person.mean_age() \n",
    "# returns the mean age of all person instance objects)"
   ]
  },
  {
   "cell_type": "markdown",
   "metadata": {},
   "source": [
    "> **Note:** As we can see above, we no longer need to pass in a reference to the Person class in our arguments since we are using the Person class to call these methods. We will still need to pass those arguments into the Query class methods, however."
   ]
  },
  {
   "cell_type": "markdown",
   "metadata": {},
   "source": [
    "## Summary\n"
   ]
  },
  {
   "cell_type": "markdown",
   "metadata": {},
   "source": [
    "In this lab, we practiced using a local class as a module to create a separation of concerns for our program. By defining a Query class that operates on our other class(es), we were able to make our code cleaner and [D.R.Y.](https://en.wikipedia.org/wiki/Don%27t_repeat_yourself)er. We can define our query methods in the Query class and import them into any other class we'd like instead of defining the same methods in each class we make. Great work! Feel free to continue practicing by defining other classes more methods to use with the Query class."
   ]
  }
 ],
 "metadata": {
  "kernelspec": {
   "display_name": "Python 3",
   "language": "python",
   "name": "python3"
  },
  "language_info": {
   "codemirror_mode": {
    "name": "ipython",
    "version": 3
   },
   "file_extension": ".py",
   "mimetype": "text/x-python",
   "name": "python",
   "nbconvert_exporter": "python",
   "pygments_lexer": "ipython3",
   "version": "3.6.6"
  }
 },
 "nbformat": 4,
 "nbformat_minor": 2
}
